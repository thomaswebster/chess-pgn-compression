{
 "cells": [
  {
   "cell_type": "code",
   "execution_count": 1,
   "id": "ac36b621-5ea8-4dd2-ab86-ca45bf57acc8",
   "metadata": {},
   "outputs": [],
   "source": [
    "import chess\n",
    "import chess.pgn\n",
    "import sys\n",
    "from utils import *\n",
    "from opening_book_gen import *\n",
    "from huffman import *\n",
    "from functools import reduce"
   ]
  },
  {
   "cell_type": "code",
   "execution_count": 11,
   "id": "7e0040c2-3441-4859-995e-05bbf7cba3bc",
   "metadata": {},
   "outputs": [],
   "source": [
    "def get_index(square, is_white=True):\n",
    "    idx = 63 - square\n",
    "    return idx if is_white else 8*(7-(idx//8)) + idx%8\n",
    "\n",
    "def get_move_evals(board):\n",
    "    moves = board.legal_moves\n",
    "    values = []\n",
    "    for i, move in enumerate(moves):\n",
    "        piece = board.piece_at(move.from_square).symbol()\n",
    "        is_white = piece.isupper()\n",
    "        current_val = pst[piece.upper()][get_index(move.from_square, is_white)]\n",
    "        new_val = pst[piece.upper()][get_index(move.to_square, is_white)]\n",
    "        prom_bon = move.promotion << 26 if move.promotion else 0\n",
    "        cap_bon = board.piece_at(move.to_square).piece_type << 25 if board.piece_at(move.to_square) else 0\n",
    "        atk_by_bon = (7-board.piece_at(move.from_square).piece_type if board.is_attacked_by(not is_white, move.to_square) else 6) << 22\n",
    "        values.append(atk_by_bon + cap_bon + prom_bon + new_val - current_val)\n",
    "    return sorted(zip(moves, values), key=lambda x: x[1], reverse=True)\n",
    "\n",
    "def get_move_index(move, eval_rankings, book=None):\n",
    "    if not isinstance(book, dict): book = {}\n",
    "    rankings = list(dict(generate_rankings(book)).keys()) + [m for m, _ in eval_rankings]\n",
    "    return list(dict.fromkeys(rankings)).index(move)\n",
    "\n",
    "def load_games(count=sys.maxsize):\n",
    "    fh = open(\"lichess_db_standard_rated_2013-02.pgn\")\n",
    "    games = [chess.pgn.read_game(fh) for _ in range(count)]\n",
    "    return games"
   ]
  },
  {
   "cell_type": "code",
   "execution_count": 14,
   "id": "c8a8a43f-6c23-4e6b-8286-15c7973fd416",
   "metadata": {},
   "outputs": [],
   "source": [
    "def encode(game, book=None):\n",
    "    encoding = \"\"\n",
    "    board = game.board()\n",
    "    for n, move in enumerate(game.mainline_moves()):\n",
    "        idx = get_move_index(move, get_move_evals(board), book)\n",
    "        encoding += codes[idx]\n",
    "        board.push(move)\n",
    "        book = book.get(move, None) if isinstance(book, dict) else None\n",
    "    return (encoding, n)"
   ]
  },
  {
   "cell_type": "code",
   "execution_count": 15,
   "id": "fd98d2d4-4623-4731-80ca-62309ddc7149",
   "metadata": {},
   "outputs": [],
   "source": [
    "def benchmark(book, upto=200):\n",
    "    tmvs, tbits = 0, 0\n",
    "    for game in games[:upto]:\n",
    "        c, mvs = encode(game, book)\n",
    "        tmvs += mvs\n",
    "        tbits += len(c)\n",
    "    print(f\"Avg bits/mv: {tbits/tmvs}\")"
   ]
  },
  {
   "cell_type": "code",
   "execution_count": 16,
   "id": "6053a084-9b28-4120-94fd-4831f9ee0510",
   "metadata": {},
   "outputs": [],
   "source": [
    "games = load_games(2500)"
   ]
  },
  {
   "cell_type": "code",
   "execution_count": 17,
   "id": "44204021-c5ba-4339-91fd-4494e0e2a339",
   "metadata": {},
   "outputs": [
    {
     "name": "stdout",
     "output_type": "stream",
     "text": [
      "Avg bits/mv: 4.407531892139638\n"
     ]
    }
   ],
   "source": [
    "benchmark(None) # 4.407 bits to beat (4.3 using opening book - 0.1 bits/mv)"
   ]
  },
  {
   "cell_type": "code",
   "execution_count": 18,
   "id": "92e751be-8479-4b98-a539-b115acd35bc1",
   "metadata": {},
   "outputs": [
    {
     "name": "stdout",
     "output_type": "stream",
     "text": [
      "Avg bits/mv: 4.3692613245741345\n",
      "Avg bits/mv: 4.351233671988389\n",
      "Avg bits/mv: 4.340386525093575\n"
     ]
    }
   ],
   "source": [
    "benchmark(generate_fixed_depth_opening_book(games[200:], depth=4))\n",
    "benchmark(generate_fixed_depth_opening_book(games[200:], depth=6))\n",
    "benchmark(generate_fixed_depth_opening_book(games[200:], depth=10))"
   ]
  },
  {
   "cell_type": "code",
   "execution_count": 19,
   "id": "71dee49e-f982-4df0-86d1-7db4de04f2d9",
   "metadata": {},
   "outputs": [
    {
     "name": "stdout",
     "output_type": "stream",
     "text": [
      "Avg bits/mv: 4.362157207241617\n",
      "Avg bits/mv: 4.34978229317852\n",
      "Avg bits/mv: 4.342601787487587\n"
     ]
    }
   ],
   "source": [
    "benchmark(generate_variable_depth_opening_book(games[200:], 10))\n",
    "benchmark(generate_variable_depth_opening_book(games[200:], 3))\n",
    "benchmark(generate_variable_depth_opening_book(games[200:], 1))"
   ]
  },
  {
   "cell_type": "code",
   "execution_count": null,
   "id": "d0973311-1477-4db6-b987-b56c3d346f2b",
   "metadata": {},
   "outputs": [],
   "source": [
    "# Graph idea: opening book size (depth/MB) -> bits/mv\n",
    "# Include fixed depth & dynamic depth\n",
    "# Show game between average lichess people, smallest size in bits."
   ]
  },
  {
   "cell_type": "code",
   "execution_count": null,
   "id": "13f8635a-5759-42ad-b744-f642880386a1",
   "metadata": {},
   "outputs": [],
   "source": [
    "# naive opening book & non-custom Huffman codes -> 0.1 bits/move improvement (current)\n",
    "# naive opening book & custom Huffman codes -> 0.15 bits/move improvement\n",
    "# non-naive opening book & custom Huffman: 0.3 bits/move??\n",
    "\n",
    "# find move likely to be played based on criteria\n",
    "# (opening-book, other features) -> P(played)\n",
    "# move played 2 moves ago ranked higher if prev move same piece (i.e. repeats)\n",
    "# ALT: all moves with piece moved last 2 moves ranked higher\n",
    "\n",
    "# multiple huffman codes, based on p of geometric distribution\n",
    "# generate on startup and reuse.\n",
    "# quick: just uses mean of distribution\n",
    "# can we hop from distribution mean straight to the code?"
   ]
  },
  {
   "cell_type": "code",
   "execution_count": null,
   "id": "e73ecb06-154b-4a2d-a112-2ed9d485ecd2",
   "metadata": {},
   "outputs": [],
   "source": [
    "TODO: \n",
    "    - repeat move piece heuristic\n",
    "    - "
   ]
  }
 ],
 "metadata": {
  "kernelspec": {
   "display_name": "Python 3 (ipykernel)",
   "language": "python",
   "name": "python3"
  },
  "language_info": {
   "codemirror_mode": {
    "name": "ipython",
    "version": 3
   },
   "file_extension": ".py",
   "mimetype": "text/x-python",
   "name": "python",
   "nbconvert_exporter": "python",
   "pygments_lexer": "ipython3",
   "version": "3.10.5"
  }
 },
 "nbformat": 4,
 "nbformat_minor": 5
}
